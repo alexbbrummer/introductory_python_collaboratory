{
 "cells": [
  {
   "cell_type": "markdown",
   "metadata": {},
   "source": [
    "## This notebook contains code needed to perform the Day 3 task of reading, editing, and writing data to the file, data.txt provided for class."
   ]
  },
  {
   "cell_type": "markdown",
   "metadata": {},
   "source": [
    "Since we will need a function from the stats_module, I am going to import the module now.\n"
   ]
  },
  {
   "cell_type": "code",
   "execution_count": 1,
   "metadata": {
    "collapsed": true
   },
   "outputs": [],
   "source": [
    "from stats_module import*"
   ]
  },
  {
   "cell_type": "markdown",
   "metadata": {},
   "source": [
    " Now, let's open, read, and copy the contents from the data.txt file into a list object in Python.  Make sure that you know the directory of were the data file is stored."
   ]
  },
  {
   "cell_type": "code",
   "execution_count": 2,
   "metadata": {
    "collapsed": true
   },
   "outputs": [],
   "source": [
    "# If we want to interact with the contents of the file then we can assign them to a list in python using a for loop.\n",
    "file = open(\"/Users/alexwork/Desktop/data.txt\", \"r\")\n",
    "filelist = []\n",
    "for i in file:\n",
    "    filelist.append(i)\n",
    "\n",
    "file.close() # Don't forget to finally close the file once you are all done interacting with it."
   ]
  },
  {
   "cell_type": "markdown",
   "metadata": {},
   "source": [
    "Let's take a look at the first and last 20 lines of our file."
   ]
  },
  {
   "cell_type": "code",
   "execution_count": 3,
   "metadata": {},
   "outputs": [
    {
     "data": {
      "text/plain": [
       "['54.33809812176864\\n',\n",
       " '15.67487442803117\\n',\n",
       " '95.12843505444877\\n',\n",
       " '62.55741858129456\\n',\n",
       " '36.737214434735854\\n',\n",
       " 'errors\\n',\n",
       " '44.5610566781984\\n',\n",
       " '32.09516902926764\\n',\n",
       " '9.496491934719685\\n',\n",
       " '64.33808452046124\\n',\n",
       " '62.83543321432609\\n',\n",
       " '81.10903633690747\\n',\n",
       " '94.91542010488092\\n',\n",
       " '98.03226016011415\\n',\n",
       " '22.9571494296968\\n',\n",
       " '42.88192324944779\\n',\n",
       " '12.501395916160885\\n',\n",
       " '21.659239927580998\\n',\n",
       " '64.98712940296025\\n',\n",
       " '39.667972927311865\\n']"
      ]
     },
     "execution_count": 3,
     "metadata": {},
     "output_type": "execute_result"
    }
   ],
   "source": [
    "filelist[0:20]"
   ]
  },
  {
   "cell_type": "code",
   "execution_count": 4,
   "metadata": {},
   "outputs": [
    {
     "data": {
      "text/plain": [
       "['15.356181062595143\\n',\n",
       " '98.47228755854758\\n',\n",
       " '11.95203034891128\\n',\n",
       " '0.11519273506434002\\n',\n",
       " '38.517722368842854\\n',\n",
       " '56.44902618370452\\n',\n",
       " '23.299832467851044\\n',\n",
       " '31.37438114178117\\n',\n",
       " '97.33286704883581\\n',\n",
       " '50.21816599149487\\n',\n",
       " '30.164926407715008\\n',\n",
       " '74.92154152004193\\n',\n",
       " '5.766462313165654\\n',\n",
       " '11.086213748936501\\n',\n",
       " 'errors\\n',\n",
       " '91.6276390298103\\n',\n",
       " '2.1832312497706563\\n',\n",
       " '75.8438714335051\\n',\n",
       " '33.59238944353141\\n',\n",
       " 'The variance is 831.3367\\n']"
      ]
     },
     "execution_count": 4,
     "metadata": {},
     "output_type": "execute_result"
    }
   ],
   "source": [
    "filelist[len(filelist)-20:len(filelist)]"
   ]
  },
  {
   "cell_type": "markdown",
   "metadata": {},
   "source": [
    "We can see that we will need to do several things in order to do math on the contents of the file.  \n",
    "\n",
    "(1) remove the '\\n' elements form each entry.\n",
    "\n",
    "(2) convert each element in file list from a string to a float.\n",
    "\n",
    "(3) handle the \"errors\" that have been planted in our file.\n",
    "\n",
    "So, let's first write a for loop to loop through the whole filelist object and for each object we will remove the '\\n'.  Inside of the loop we will reassign each entry in filelist to itself, but upon reassignment we will index the replacement value using '0:-1', which means 'index by everything from the beginning until the last element.  You can run in a separate cell, filelist[10][0:-1] to experiment and see that this indexing works."
   ]
  },
  {
   "cell_type": "code",
   "execution_count": 5,
   "metadata": {},
   "outputs": [
    {
     "data": {
      "text/plain": [
       "'62.83543321432609'"
      ]
     },
     "execution_count": 5,
     "metadata": {},
     "output_type": "execute_result"
    }
   ],
   "source": [
    "filelist[10][0:-1]"
   ]
  },
  {
   "cell_type": "code",
   "execution_count": 6,
   "metadata": {
    "collapsed": true
   },
   "outputs": [],
   "source": [
    "for i in range(0,len(filelist)):\n",
    "    filelist[i] = filelist[i][0:-1]"
   ]
  },
  {
   "cell_type": "markdown",
   "metadata": {},
   "source": [
    "Again, let's examine the first 20 rows of filelist."
   ]
  },
  {
   "cell_type": "code",
   "execution_count": 7,
   "metadata": {},
   "outputs": [
    {
     "data": {
      "text/plain": [
       "['54.33809812176864',\n",
       " '15.67487442803117',\n",
       " '95.12843505444877',\n",
       " '62.55741858129456',\n",
       " '36.737214434735854',\n",
       " 'errors',\n",
       " '44.5610566781984',\n",
       " '32.09516902926764',\n",
       " '9.496491934719685',\n",
       " '64.33808452046124',\n",
       " '62.83543321432609',\n",
       " '81.10903633690747',\n",
       " '94.91542010488092',\n",
       " '98.03226016011415',\n",
       " '22.9571494296968',\n",
       " '42.88192324944779',\n",
       " '12.501395916160885',\n",
       " '21.659239927580998',\n",
       " '64.98712940296025',\n",
       " '39.667972927311865']"
      ]
     },
     "execution_count": 7,
     "metadata": {},
     "output_type": "execute_result"
    }
   ],
   "source": [
    "filelist[0:20]"
   ]
  },
  {
   "cell_type": "markdown",
   "metadata": {},
   "source": [
    "And we can see that all of the '\\n' values have been removed.  Now let's run another loop that coerces each element of filelist to be a float.  We can anticipate encountering errors when trying coerce the string \"errors\" into a float, so we should add a try except patter for these instances.  But, which exception will we need?  To find out, we can simply try coercing the 'errors' entry to see what Python says."
   ]
  },
  {
   "cell_type": "code",
   "execution_count": 8,
   "metadata": {},
   "outputs": [
    {
     "ename": "ValueError",
     "evalue": "could not convert string to float: 'errors'",
     "output_type": "error",
     "traceback": [
      "\u001b[0;31m---------------------------------------------------------------------------\u001b[0m",
      "\u001b[0;31mValueError\u001b[0m                                Traceback (most recent call last)",
      "\u001b[0;32m<ipython-input-8-95bfe86a0cf0>\u001b[0m in \u001b[0;36m<module>\u001b[0;34m()\u001b[0m\n\u001b[0;32m----> 1\u001b[0;31m \u001b[0mfloat\u001b[0m\u001b[0;34m(\u001b[0m\u001b[0mfilelist\u001b[0m\u001b[0;34m[\u001b[0m\u001b[0;36m5\u001b[0m\u001b[0;34m]\u001b[0m\u001b[0;34m)\u001b[0m\u001b[0;34m\u001b[0m\u001b[0m\n\u001b[0m",
      "\u001b[0;31mValueError\u001b[0m: could not convert string to float: 'errors'"
     ]
    }
   ],
   "source": [
    "float(filelist[5])"
   ]
  },
  {
   "cell_type": "markdown",
   "metadata": {},
   "source": [
    "We get a value error!  Excellent, now we know which kind of exception to use.  Let's write our loop."
   ]
  },
  {
   "cell_type": "code",
   "execution_count": 9,
   "metadata": {},
   "outputs": [
    {
     "name": "stdout",
     "output_type": "stream",
     "text": [
      "Can not coerce to float\n",
      "Can not coerce to float\n",
      "Can not coerce to float\n",
      "Can not coerce to float\n",
      "Can not coerce to float\n",
      "Can not coerce to float\n"
     ]
    }
   ],
   "source": [
    "# We are going to assign elements to a new list.\n",
    "newfilelist = []\n",
    "\n",
    "for i in range(0,len(filelist)):\n",
    "    try:\n",
    "        newfilelist.append(float(filelist[i]))\n",
    "    except ValueError:\n",
    "        # Note that no assignments are made to newfilelist[i] should an error occur.\n",
    "        # This should mean that these errors simply won't be copied into the new list.\n",
    "        print('Can not coerce to float')\n",
    "        "
   ]
  },
  {
   "cell_type": "markdown",
   "metadata": {},
   "source": [
    "Let's examine again the first 20 lines of filelist"
   ]
  },
  {
   "cell_type": "code",
   "execution_count": 10,
   "metadata": {},
   "outputs": [
    {
     "data": {
      "text/plain": [
       "[54.33809812176864,\n",
       " 15.67487442803117,\n",
       " 95.12843505444877,\n",
       " 62.55741858129456,\n",
       " 36.737214434735854,\n",
       " 44.5610566781984,\n",
       " 32.09516902926764,\n",
       " 9.496491934719685,\n",
       " 64.33808452046124,\n",
       " 62.83543321432609,\n",
       " 81.10903633690747,\n",
       " 94.91542010488092,\n",
       " 98.03226016011415,\n",
       " 22.9571494296968,\n",
       " 42.88192324944779,\n",
       " 12.501395916160885,\n",
       " 21.659239927580998,\n",
       " 64.98712940296025,\n",
       " 39.667972927311865,\n",
       " 93.53215196849767]"
      ]
     },
     "execution_count": 10,
     "metadata": {},
     "output_type": "execute_result"
    }
   ],
   "source": [
    "newfilelist[0:20]"
   ]
  },
  {
   "cell_type": "markdown",
   "metadata": {},
   "source": [
    "Excellent, all of the objects in filelist are floats, and the errors were not copied over as intended.  Now we can use our stats module to calculate the variance in this list of numbers, and we can append that value to the original data file.  Note that, since we are not using the print() function and instead using the file.write() function, I will use string math (+ signs) to merge string elements together.  I am also using the round() function to round our variance value to four decimal places."
   ]
  },
  {
   "cell_type": "code",
   "execution_count": 11,
   "metadata": {
    "collapsed": true
   },
   "outputs": [],
   "source": [
    "file = open(\"/Users/alexwork/Desktop/data.txt\", \"a\")\n",
    "\n",
    "file.write('The variance is ' + str(round(varianceNums(newfilelist),4)) + '\\n')\n",
    "\n",
    "file.close()"
   ]
  },
  {
   "cell_type": "code",
   "execution_count": null,
   "metadata": {
    "collapsed": true
   },
   "outputs": [],
   "source": []
  },
  {
   "cell_type": "code",
   "execution_count": null,
   "metadata": {
    "collapsed": true
   },
   "outputs": [],
   "source": []
  },
  {
   "cell_type": "code",
   "execution_count": null,
   "metadata": {
    "collapsed": true
   },
   "outputs": [],
   "source": []
  }
 ],
 "metadata": {
  "kernelspec": {
   "display_name": "Python 3",
   "language": "python",
   "name": "python3"
  },
  "language_info": {
   "codemirror_mode": {
    "name": "ipython",
    "version": 3
   },
   "file_extension": ".py",
   "mimetype": "text/x-python",
   "name": "python",
   "nbconvert_exporter": "python",
   "pygments_lexer": "ipython3",
   "version": "3.6.3"
  }
 },
 "nbformat": 4,
 "nbformat_minor": 2
}
